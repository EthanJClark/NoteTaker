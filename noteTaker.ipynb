{
 "cells": [
  {
   "cell_type": "code",
   "execution_count": 28,
   "id": "3a771398",
   "metadata": {},
   "outputs": [],
   "source": [
    "import openai\n",
    "import dotenv\n",
    "import os\n",
    "import dspy\n",
    "\n",
    "# Load environment variables\n",
    "dotenv.load_dotenv()\n",
    "\n",
    "api_key = os.getenv(\"OPENAI_API_KEY\")\n",
    "\n",
    "lm = dspy.LM(\n",
    "    model = \"gpt-4o\",\n",
    "    api_key = api_key \n",
    ")\n",
    "\n",
    "dspy.configure(lm=lm)"
   ]
  },
  {
   "cell_type": "code",
   "execution_count": null,
   "id": "07a664ec",
   "metadata": {},
   "outputs": [],
   "source": [
    "class Summarizer(dspy.Signature):\n",
    "    \"\"\"split text into chunks and sections and provide a detailed summary of each section with bulleted points for the purpose of studying\"\"\"\n",
    "    text_input = dspy.InputField(desc=\"\")\n",
    "    summary_output: dict = dspy.OutputField(desc=\"summary of the text input\")"
   ]
  },
  {
   "cell_type": "code",
   "execution_count": 38,
   "id": "60007e2f",
   "metadata": {},
   "outputs": [],
   "source": [
    "class questionAnswerer(dspy.Signature):\n",
    "    \"\"\"answer questions based on the provided dictionary\"\"\"\n",
    "    data_input = dspy.InputField(desc=\"text to base questions on\")\n",
    "    QandA_Output: dict = dspy.OutputField(desc=\"the answer to the question based on the text input\")"
   ]
  },
  {
   "cell_type": "code",
   "execution_count": null,
   "id": "7af55a57",
   "metadata": {},
   "outputs": [],
   "source": [
    "class Assistant(dspy.Signature):\n",
    "    \"\"\"You are an assistant that helps with note taking and answering questions based on notes.\"\"\"\n",
    "    "
   ]
  },
  {
   "cell_type": "code",
   "execution_count": 35,
   "id": "16095e21",
   "metadata": {},
   "outputs": [],
   "source": [
    "test = dspy.Predict(Summarizer)\n",
    "\n",
    "result = test(\n",
    "    text_input=\"\"\"\n",
    "Title: The Biology, Behavior, and Ecology of Bunnies (Oryctolagus cuniculus)\n",
    "\n",
    "Abstract\n",
    "Bunnies, commonly referred to as rabbits, are small mammals in the family Leporidae, widely known for their soft fur, large ears, and rapid reproduction. Native to Europe and parts of Africa, they have since been introduced globally. This paper explores the biology, behavior, and ecological impact of bunnies, particularly focusing on the European rabbit (Oryctolagus cuniculus), the most widely studied species.\n",
    "\n",
    "1. Introduction\n",
    "Bunnies have played significant roles in ecosystems, agriculture, and even culture. Despite their often domesticated appearance, wild bunnies are resilient, adaptive, and ecologically impactful. Their rapid reproduction, burrowing behavior, and herbivorous diet influence both natural and human-altered environments.\n",
    "\n",
    "2. Biological Characteristics\n",
    "Bunnies are characterized by:\n",
    "\n",
    "Size: Typically 1.2–2.7 kg in adulthood.\n",
    "\n",
    "Fur and Coloration: Soft fur; wild types usually gray-brown, while domesticated varieties show a wide range.\n",
    "\n",
    "Teeth: Continuously growing incisors adapted for gnawing.\n",
    "\n",
    "Senses: Excellent hearing and a nearly 360° field of vision.\n",
    "\n",
    "They reproduce prolifically—females (does) can produce 20–40 offspring annually under optimal conditions. Gestation lasts around 28–31 days.\n",
    "\n",
    "3. Behavior and Social Structure\n",
    "Bunnies are crepuscular, most active during dawn and dusk. Wild rabbits live in complex burrow systems called warrens. They communicate through thumps, body posture, and scent marking. Social hierarchies exist, especially among males (bucks), and territorial behavior is common.\n",
    "\n",
    "4. Ecology and Environmental Role\n",
    "As herbivores, bunnies feed on grasses, herbs, and bark. They contribute to seed dispersal and are a crucial food source for predators such as foxes, hawks, and owls. However, in non-native habitats (e.g., Australia), they have become invasive, leading to massive ecological disruption and agricultural loss.\n",
    "\n",
    "5. Domestication and Human Interaction\n",
    "Domesticated rabbits have been bred for meat, fur, and companionship. Selective breeding has led to over 300 breeds. Despite their docile nature, domestic rabbits require specific care and environmental enrichment to thrive.\n",
    "\n",
    "6. Conservation and Management\n",
    "While rabbits are considered pests in some areas, populations in their native habitats are declining due to disease (e.g., myxomatosis, RHDV), habitat loss, and hunting. Conservation efforts focus on disease control and habitat restoration.\n",
    "\n",
    "7. Conclusion\n",
    "Bunnies are more than just cute creatures—they are ecologically significant, behaviorally complex, and biologically unique. Their dual status as pests and endangered species highlights the need for context-specific management and continued study.\n",
    "\n",
    "References\n",
    "\n",
    "Chapman, J. A., & Flux, J. E. C. (1990). Rabbits, Hares and Pikas: Status Survey and Conservation Action Plan. IUCN.\n",
    "\n",
    "Cooke, B. D. (2012). Rabbits: The Animal Answer Guide. Johns Hopkins University Press.\n",
    "\n",
    "Gibb, J. A. (1990). \"Ecology of Rabbits in New Zealand,\" New Zealand Journal of Ecology, 14, 49–55.\n",
    "\n",
    "Let me know if you want it formatted as a Word document or extended with graphs, images, or deeper citations.\n",
    "\n",
    "\"\"\"\n",
    "    )"
   ]
  },
  {
   "cell_type": "code",
   "execution_count": 37,
   "id": "6fe5d43f",
   "metadata": {},
   "outputs": [
    {
     "name": "stdout",
     "output_type": "stream",
     "text": [
      "{'Title': 'The Biology, Behavior, and Ecology of Bunnies (Oryctolagus cuniculus)', 'Abstract': ['Bunnies, or rabbits, are small mammals known for their soft fur and rapid reproduction.', 'Native to Europe and Africa, they are now found globally.', 'The paper focuses on the European rabbit, exploring its biology, behavior, and ecological impact.'], '1. Introduction': ['Bunnies play significant roles in ecosystems, agriculture, and culture.', 'Wild bunnies are resilient and ecologically impactful, influencing environments through reproduction, burrowing, and diet.'], '2. Biological Characteristics': ['Adult bunnies weigh 1.2–2.7 kg.', 'They have soft fur, with wild types usually gray-brown.', 'Bunnies have continuously growing incisors and excellent hearing.', 'Females can produce 20–40 offspring annually, with a gestation period of 28–31 days.'], '3. Behavior and Social Structure': ['Bunnies are crepuscular, active at dawn and dusk.', 'They live in burrow systems called warrens and communicate through various signals.', 'Social hierarchies and territorial behavior are common, especially among males.'], '4. Ecology and Environmental Role': ['Bunnies are herbivores, feeding on grasses, herbs, and bark.', 'They aid in seed dispersal and are prey for many predators.', 'In non-native habitats, they can become invasive, causing ecological and agricultural issues.'], '5. Domestication and Human Interaction': ['Domesticated rabbits are bred for meat, fur, and companionship.', 'Over 300 breeds exist due to selective breeding.', 'Domestic rabbits require specific care and enrichment.'], '6. Conservation and Management': ['Rabbits are pests in some areas but face population declines in native habitats.', 'Threats include disease, habitat loss, and hunting.', 'Conservation efforts focus on disease control and habitat restoration.'], '7. Conclusion': ['Bunnies are ecologically significant and behaviorally complex.', 'Their status as both pests and endangered species necessitates context-specific management and further study.'], 'References': ['Chapman, J. A., & Flux, J. E. C. (1990). Rabbits, Hares and Pikas: Status Survey and Conservation Action Plan. IUCN.', 'Cooke, B. D. (2012). Rabbits: The Animal Answer Guide. Johns Hopkins University Press.', \"Gibb, J. A. (1990). 'Ecology of Rabbits in New Zealand,' New Zealand Journal of Ecology, 14, 49–55.\"]}\n"
     ]
    }
   ],
   "source": [
    "print(result.summary_output)"
   ]
  },
  {
   "cell_type": "code",
   "execution_count": 39,
   "id": "fa04c2f9",
   "metadata": {},
   "outputs": [],
   "source": [
    "test2 = dspy.Predict(questionAnswerer)\n",
    "result2 = test2(\n",
    "    data_input=result.summary_output\n",
    ")"
   ]
  },
  {
   "cell_type": "code",
   "execution_count": 40,
   "id": "56c2ea89",
   "metadata": {},
   "outputs": [
    {
     "name": "stdout",
     "output_type": "stream",
     "text": [
      "{'What is the scientific name of bunnies?': 'Oryctolagus cuniculus', 'Where are bunnies originally from?': 'Bunnies are native to Europe and Africa.', 'What is the average weight range of adult bunnies?': 'Adult bunnies weigh 1.2–2.7 kg.', 'How many offspring can female bunnies produce annually?': 'Females can produce 20–40 offspring annually.', 'What is the gestation period for bunnies?': 'The gestation period is 28–31 days.', 'When are bunnies most active?': 'Bunnies are crepuscular, meaning they are most active at dawn and dusk.', 'What are some ecological roles of bunnies?': 'Bunnies aid in seed dispersal and serve as prey for many predators.', 'What are some threats to bunny populations in their native habitats?': 'Threats include disease, habitat loss, and hunting.', 'How many breeds of domesticated rabbits exist?': 'Over 300 breeds exist due to selective breeding.', 'What are some uses of domesticated rabbits?': 'Domesticated rabbits are bred for meat, fur, and companionship.'}\n"
     ]
    }
   ],
   "source": [
    "print(result2.QandA_Output)"
   ]
  }
 ],
 "metadata": {
  "kernelspec": {
   "display_name": ".venv",
   "language": "python",
   "name": "python3"
  },
  "language_info": {
   "codemirror_mode": {
    "name": "ipython",
    "version": 3
   },
   "file_extension": ".py",
   "mimetype": "text/x-python",
   "name": "python",
   "nbconvert_exporter": "python",
   "pygments_lexer": "ipython3",
   "version": "3.13.5"
  }
 },
 "nbformat": 4,
 "nbformat_minor": 5
}
